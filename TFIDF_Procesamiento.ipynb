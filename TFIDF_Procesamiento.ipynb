{
 "cells": [
  {
   "cell_type": "markdown",
   "metadata": {},
   "source": [
    " # Taller Feature Engineering TFIDF 🤠 "
   ]
  },
  {
   "cell_type": "markdown",
   "metadata": {},
   "source": [
    "<br><b>Creador:</b> Norma Yuliana Cala Martínez\n",
    "<br><b>Email: </b> normisss11@gmail.com\n",
    "<br><b>Fecha creacion:</b> Septiembre 12, 2020"
   ]
  },
  {
   "cell_type": "markdown",
   "metadata": {},
   "source": [
    "#### Punto 1: Pre-Procesamiento\n",
    "\n",
    "    a. Leer el archivo Princesas.csv usando pandas y crear una nueva columna con el texto en minúscula, sin caracteres especiales ni números, sin palabras vacias y hacer stemming de las palabras\n",
    "\n",
    "#### Punto 2:\n",
    "    a. Crear la matriz TF-IDF\n",
    "    \n",
    "#### Punto 3 : Distancia del coseno\n",
    "\n",
    "    a. Calcular la distancia del coseno entre cada una de las princesas\n",
    "    b. ¿Cuáles son las princesas más parecidas?\n",
    "    c. ¿Cuáles son las princesas más diferentes?"
   ]
  },
  {
   "cell_type": "markdown",
   "metadata": {},
   "source": [
    "## Solución de taller TD_IDF"
   ]
  },
  {
   "cell_type": "markdown",
   "metadata": {},
   "source": [
    "### Punto 1 😲\n",
    "a. Leer el archivo Princesas.csv usando pandas y crear una nueva columna con el texto en minúscula, sin caracteres especiales ni números, sin palabras vacias y hacer stemming de las palabras."
   ]
  },
  {
   "cell_type": "code",
   "execution_count": null,
   "metadata": {},
   "outputs": [],
   "source": [
    "import re\n",
    "import numpy as np\n",
    "import pandas as pd\n",
    "\n",
    "from nltk.corpus import stopwords\n",
    "stopwords_sp = stopwords.words('spanish')\n",
    "\n",
    "from nltk.stem.snowball import SnowballStemmer\n",
    "spanishStemmer=SnowballStemmer(\"spanish\")\n",
    "\n",
    "from sklearn.feature_extraction.text import TfidfVectorizer # Para hacer TFIDF\n",
    "from sklearn.metrics.pairwise import cosine_similarity"
   ]
  },
  {
   "cell_type": "code",
   "execution_count": null,
   "metadata": {},
   "outputs": [],
   "source": [
    "# 📝 Leer plano y visualizar la información.\n",
    "\n",
    "data = pd.read_csv(\"Princesas.csv\" , encoding=\"utf-8\")\n",
    "data"
   ]
  },
  {
   "cell_type": "markdown",
   "metadata": {},
   "source": [
    "##### Realizar tratamiento de datos."
   ]
  },
  {
   "cell_type": "code",
   "execution_count": null,
   "metadata": {},
   "outputs": [],
   "source": [
    "# Función\n",
    "def preproceso(texto):\n",
    "    texto = texto.lower()   # Minusculas\n",
    "    texto = re.sub(r\"[\\W\\d_]+\", \" \", texto) # Caracteres especiales y números.\n",
    "    texto = \" \".join([spanishStemmer.stem(palabra) for palabra in texto.split() if palabra not in stopwords_sp]) \n",
    "    return texto\n",
    "\n",
    "# [spanishStemmer.stem(palabra) # Stemming del documento"
   ]
  },
  {
   "cell_type": "code",
   "execution_count": null,
   "metadata": {},
   "outputs": [],
   "source": [
    "data['preproceso'] = data['Personalidad'].apply(lambda texto: preproceso(texto)) # Palabras vacías.\n",
    "data\n"
   ]
  },
  {
   "cell_type": "markdown",
   "metadata": {},
   "source": [
    "#### Punto 2:\n",
    "    a. Crear la matriz TF-IDF"
   ]
  },
  {
   "cell_type": "code",
   "execution_count": null,
   "metadata": {},
   "outputs": [],
   "source": [
    "# tfidf_matrix\n",
    "\n",
    "tfidf_vect = TfidfVectorizer()\n",
    "tfidf = tfidf_vect.fit_transform(data.preproceso.values)\n",
    "\n",
    "tfidf_matrix = pd.DataFrame(data=tfidf.toarray(), columns=tfidf_vect.get_feature_names())\n",
    "tfidf_matrix = tfidf_matrix.T.round(3)\n",
    "tfidf_matrix.columns = [\"Blancanieves\",\"Cenicienta\",\"Aurora\",\"Bella\",\"Jasmín\",\"Pocahontas\",\"Mulan\",\"Tiana\",\"Mérida\",\"Moana\"]\n",
    "\n",
    "#Trasponer\n",
    "tfidf_matrix"
   ]
  },
  {
   "cell_type": "markdown",
   "metadata": {},
   "source": [
    "#### Punto 3 : Distancia del coseno\n",
    "\n",
    "    a. Calcular la distancia del coseno entre cada una de las princesas.\n",
    "\n",
    "\n"
   ]
  },
  {
   "cell_type": "code",
   "execution_count": 10,
   "metadata": {
    "scrolled": true
   },
   "outputs": [
    {
     "data": {
      "text/html": [
       "<div>\n",
       "<style scoped>\n",
       "    .dataframe tbody tr th:only-of-type {\n",
       "        vertical-align: middle;\n",
       "    }\n",
       "\n",
       "    .dataframe tbody tr th {\n",
       "        vertical-align: top;\n",
       "    }\n",
       "\n",
       "    .dataframe thead th {\n",
       "        text-align: right;\n",
       "    }\n",
       "</style>\n",
       "<table border=\"1\" class=\"dataframe\">\n",
       "  <thead>\n",
       "    <tr style=\"text-align: right;\">\n",
       "      <th></th>\n",
       "      <th>Blancanieves</th>\n",
       "      <th>Cenicienta</th>\n",
       "      <th>Aurora</th>\n",
       "      <th>Bella</th>\n",
       "      <th>Jasmín</th>\n",
       "      <th>Pocahontas</th>\n",
       "      <th>Mulan</th>\n",
       "      <th>Tiana</th>\n",
       "      <th>Mérida</th>\n",
       "      <th>Moana</th>\n",
       "    </tr>\n",
       "  </thead>\n",
       "  <tbody>\n",
       "    <tr>\n",
       "      <td>Blancanieves</td>\n",
       "      <td>0.000000</td>\n",
       "      <td>0.846420</td>\n",
       "      <td>0.842223</td>\n",
       "      <td>0.918112</td>\n",
       "      <td>0.935103</td>\n",
       "      <td>0.922165</td>\n",
       "      <td>0.884147</td>\n",
       "      <td>0.960082</td>\n",
       "      <td>0.985136</td>\n",
       "      <td>0.951298</td>\n",
       "    </tr>\n",
       "    <tr>\n",
       "      <td>Cenicienta</td>\n",
       "      <td>0.846420</td>\n",
       "      <td>0.000000</td>\n",
       "      <td>0.858412</td>\n",
       "      <td>0.947243</td>\n",
       "      <td>0.959209</td>\n",
       "      <td>0.960479</td>\n",
       "      <td>0.932663</td>\n",
       "      <td>0.918639</td>\n",
       "      <td>0.970839</td>\n",
       "      <td>0.974925</td>\n",
       "    </tr>\n",
       "    <tr>\n",
       "      <td>Aurora</td>\n",
       "      <td>0.842223</td>\n",
       "      <td>0.858412</td>\n",
       "      <td>0.000000</td>\n",
       "      <td>0.832503</td>\n",
       "      <td>0.937195</td>\n",
       "      <td>0.868994</td>\n",
       "      <td>0.919500</td>\n",
       "      <td>0.939231</td>\n",
       "      <td>0.940723</td>\n",
       "      <td>0.965930</td>\n",
       "    </tr>\n",
       "    <tr>\n",
       "      <td>Bella</td>\n",
       "      <td>0.918112</td>\n",
       "      <td>0.947243</td>\n",
       "      <td>0.832503</td>\n",
       "      <td>0.000000</td>\n",
       "      <td>0.888219</td>\n",
       "      <td>0.890513</td>\n",
       "      <td>0.882169</td>\n",
       "      <td>0.973338</td>\n",
       "      <td>0.943607</td>\n",
       "      <td>0.923546</td>\n",
       "    </tr>\n",
       "    <tr>\n",
       "      <td>Jasmín</td>\n",
       "      <td>0.935103</td>\n",
       "      <td>0.959209</td>\n",
       "      <td>0.937195</td>\n",
       "      <td>0.888219</td>\n",
       "      <td>0.000000</td>\n",
       "      <td>0.942753</td>\n",
       "      <td>0.935198</td>\n",
       "      <td>0.937868</td>\n",
       "      <td>0.972505</td>\n",
       "      <td>0.968929</td>\n",
       "    </tr>\n",
       "    <tr>\n",
       "      <td>Pocahontas</td>\n",
       "      <td>0.922165</td>\n",
       "      <td>0.960479</td>\n",
       "      <td>0.868994</td>\n",
       "      <td>0.890513</td>\n",
       "      <td>0.942753</td>\n",
       "      <td>0.000000</td>\n",
       "      <td>0.888844</td>\n",
       "      <td>0.968918</td>\n",
       "      <td>0.979646</td>\n",
       "      <td>0.936091</td>\n",
       "    </tr>\n",
       "    <tr>\n",
       "      <td>Mulan</td>\n",
       "      <td>0.884147</td>\n",
       "      <td>0.932663</td>\n",
       "      <td>0.919500</td>\n",
       "      <td>0.882169</td>\n",
       "      <td>0.935198</td>\n",
       "      <td>0.888844</td>\n",
       "      <td>0.000000</td>\n",
       "      <td>0.991170</td>\n",
       "      <td>0.987267</td>\n",
       "      <td>0.945844</td>\n",
       "    </tr>\n",
       "    <tr>\n",
       "      <td>Tiana</td>\n",
       "      <td>0.960082</td>\n",
       "      <td>0.918639</td>\n",
       "      <td>0.939231</td>\n",
       "      <td>0.973338</td>\n",
       "      <td>0.937868</td>\n",
       "      <td>0.968918</td>\n",
       "      <td>0.991170</td>\n",
       "      <td>0.000000</td>\n",
       "      <td>0.979275</td>\n",
       "      <td>0.971443</td>\n",
       "    </tr>\n",
       "    <tr>\n",
       "      <td>Mérida</td>\n",
       "      <td>0.985136</td>\n",
       "      <td>0.970839</td>\n",
       "      <td>0.940723</td>\n",
       "      <td>0.943607</td>\n",
       "      <td>0.972505</td>\n",
       "      <td>0.979646</td>\n",
       "      <td>0.987267</td>\n",
       "      <td>0.979275</td>\n",
       "      <td>0.000000</td>\n",
       "      <td>0.971818</td>\n",
       "    </tr>\n",
       "    <tr>\n",
       "      <td>Moana</td>\n",
       "      <td>0.951298</td>\n",
       "      <td>0.974925</td>\n",
       "      <td>0.965930</td>\n",
       "      <td>0.923546</td>\n",
       "      <td>0.968929</td>\n",
       "      <td>0.936091</td>\n",
       "      <td>0.945844</td>\n",
       "      <td>0.971443</td>\n",
       "      <td>0.971818</td>\n",
       "      <td>0.000000</td>\n",
       "    </tr>\n",
       "  </tbody>\n",
       "</table>\n",
       "</div>"
      ],
      "text/plain": [
       "              Blancanieves  Cenicienta    Aurora     Bella    Jasmín  \\\n",
       "Blancanieves      0.000000    0.846420  0.842223  0.918112  0.935103   \n",
       "Cenicienta        0.846420    0.000000  0.858412  0.947243  0.959209   \n",
       "Aurora            0.842223    0.858412  0.000000  0.832503  0.937195   \n",
       "Bella             0.918112    0.947243  0.832503  0.000000  0.888219   \n",
       "Jasmín            0.935103    0.959209  0.937195  0.888219  0.000000   \n",
       "Pocahontas        0.922165    0.960479  0.868994  0.890513  0.942753   \n",
       "Mulan             0.884147    0.932663  0.919500  0.882169  0.935198   \n",
       "Tiana             0.960082    0.918639  0.939231  0.973338  0.937868   \n",
       "Mérida            0.985136    0.970839  0.940723  0.943607  0.972505   \n",
       "Moana             0.951298    0.974925  0.965930  0.923546  0.968929   \n",
       "\n",
       "              Pocahontas     Mulan     Tiana    Mérida     Moana  \n",
       "Blancanieves    0.922165  0.884147  0.960082  0.985136  0.951298  \n",
       "Cenicienta      0.960479  0.932663  0.918639  0.970839  0.974925  \n",
       "Aurora          0.868994  0.919500  0.939231  0.940723  0.965930  \n",
       "Bella           0.890513  0.882169  0.973338  0.943607  0.923546  \n",
       "Jasmín          0.942753  0.935198  0.937868  0.972505  0.968929  \n",
       "Pocahontas      0.000000  0.888844  0.968918  0.979646  0.936091  \n",
       "Mulan           0.888844  0.000000  0.991170  0.987267  0.945844  \n",
       "Tiana           0.968918  0.991170  0.000000  0.979275  0.971443  \n",
       "Mérida          0.979646  0.987267  0.979275  0.000000  0.971818  \n",
       "Moana           0.936091  0.945844  0.971443  0.971818  0.000000  "
      ]
     },
     "execution_count": 10,
     "metadata": {},
     "output_type": "execute_result"
    }
   ],
   "source": [
    "from sklearn.metrics.pairwise import cosine_distances\n",
    " \n",
    "dist_cos = cosine_distances(tfidf_matrix.T.values)\n",
    "dist_cos = pd.DataFrame(dist_cos, columns = tfidf_matrix.columns, index = tfidf_matrix.columns)\n",
    "\n",
    "dist_cos"
   ]
  },
  {
   "cell_type": "markdown",
   "metadata": {},
   "source": [
    "    b. ¿Cuáles son las princesas más parecidas?\n"
   ]
  },
  {
   "cell_type": "code",
   "execution_count": 11,
   "metadata": {},
   "outputs": [],
   "source": [
    "nombre_princesas = [\"Blancanieves\",\"Cenicienta\",\"Aurora\",\"Bella\",\"Jasmín\",\"Pocahontas\",\"Mulan\",\"Tiana\",\"Mérida\",\"Moana\"]\n",
    " "
   ]
  },
  {
   "cell_type": "markdown",
   "metadata": {},
   "source": [
    "    c. ¿Cuáles son las princesas más diferentes?"
   ]
  },
  {
   "cell_type": "code",
   "execution_count": 12,
   "metadata": {},
   "outputs": [
    {
     "name": "stdout",
     "output_type": "stream",
     "text": [
      "Mérida es la más diferente de Blancanieves\n",
      "Moana es la más diferente de Cenicienta\n",
      "Moana es la más diferente de Aurora\n",
      "Tiana es la más diferente de Bella\n",
      "Mérida es la más diferente de Jasmín\n",
      "Mérida es la más diferente de Pocahontas\n",
      "Tiana es la más diferente de Mulan\n",
      "Mulan es la más diferente de Tiana\n",
      "Mulan es la más diferente de Mérida\n",
      "Cenicienta es la más diferente de Moana\n"
     ]
    }
   ],
   "source": [
    "for nombre in nombre_princesas:\n",
    "    result = dist_cos [nombre].idxmax()\n",
    "    print(result +\" es la más diferente de \" + nombre)"
   ]
  }
 ],
 "metadata": {
  "kernelspec": {
   "display_name": "Python 3",
   "language": "python",
   "name": "python3"
  },
  "language_info": {
   "codemirror_mode": {
    "name": "ipython",
    "version": 3
   },
   "file_extension": ".py",
   "mimetype": "text/x-python",
   "name": "python",
   "nbconvert_exporter": "python",
   "pygments_lexer": "ipython3",
   "version": "3.7.4"
  }
 },
 "nbformat": 4,
 "nbformat_minor": 2
}
